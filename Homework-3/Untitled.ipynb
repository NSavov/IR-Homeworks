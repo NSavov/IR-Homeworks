{
 "cells": [
  {
   "cell_type": "code",
   "execution_count": 1,
   "metadata": {
    "collapsed": false
   },
   "outputs": [],
   "source": [
    "%load_ext autoreload\n",
    "%autoreload 2"
   ]
  },
  {
   "cell_type": "code",
   "execution_count": 5,
   "metadata": {
    "collapsed": false
   },
   "outputs": [],
   "source": [
    "import document\n",
    "import query \n",
    "from LambdaRank import LambdaRank\n",
    "from RankNet import RankNet\n",
    "from PointwiseRank import PointwiseRank\n",
    "import numpy\n",
    "import math\n",
    "import utils\n",
    "\n",
    "import theano\n",
    "theano.config.floatX = 'float32'"
   ]
  },
  {
   "cell_type": "code",
   "execution_count": 6,
   "metadata": {
    "collapsed": false
   },
   "outputs": [
    {
     "name": "stdout",
     "output_type": "stream",
     "text": [
      "loaded  0\n",
      "loaded queries from file\n",
      "loaded  0\n",
      "loaded queries from file\n",
      "loaded  0\n",
      "loaded queries from file\n"
     ]
    }
   ],
   "source": [
    "fold = 1\n",
    "train_queries, val_queries, test_queries = utils.read_queries(fold)"
   ]
  },
  {
   "cell_type": "code",
   "execution_count": 30,
   "metadata": {
    "collapsed": false
   },
   "outputs": [
    {
     "name": "stdout",
     "output_type": "stream",
     "text": [
      "input_dim 64 output_dim 1\n",
      "finished create_iter_functions\n"
     ]
    }
   ],
   "source": [
    "pointwiseRanker = PointwiseRank(64)"
   ]
  },
  {
   "cell_type": "code",
   "execution_count": 31,
   "metadata": {
    "collapsed": false
   },
   "outputs": [
    {
     "name": "stdout",
     "output_type": "stream",
     "text": [
      "Averate NDCG: 0.264664128288\n",
      "Averate NDCG: 0.589052230953\n",
      "Averate NDCG: 0.600810268961\n",
      "Averate NDCG: 0.691987724904\n",
      "Averate NDCG: 0.600722861366\n",
      "Averate NDCG: 0.605634528243\n",
      "Averate NDCG: 0.639661205846\n",
      "Averate NDCG: 0.639526163383\n",
      "Averate NDCG: 0.652004531201\n",
      "Averate NDCG: 0.626955521575\n",
      "Averate NDCG: 0.682179703092\n",
      "Averate NDCG: 0.648026496852\n",
      "Averate NDCG: 0.646178843041\n",
      "Averate NDCG: 0.643181223555\n",
      "Averate NDCG: 0.625633465927\n",
      "Averate NDCG: 0.580331305678\n",
      "Averate NDCG: 0.659057826571\n",
      "Averate NDCG: 0.551137165009\n",
      "Averate NDCG: 0.656704813436\n",
      "Averate NDCG: 0.668104242962\n"
     ]
    }
   ],
   "source": [
    "for i in range(20):\n",
    "    pointwiseRanker.train_with_queries(train_queries,1)\n",
    "    \n",
    "    ndcgs = utils.evaluate(pointwiseRanker,val_queries)\n",
    "\n",
    "    print \"Averate NDCG:\", ndcgs[\"all\"]"
   ]
  },
  {
   "cell_type": "code",
   "execution_count": 11,
   "metadata": {
    "collapsed": false,
    "scrolled": true
   },
   "outputs": [
    {
     "name": "stdout",
     "output_type": "stream",
     "text": [
      "Averate NDCG: 0.769918042106\n"
     ]
    }
   ],
   "source": [
    "#61s, -112 Loss, 0.83 ndcg\n",
    "ndcgs = utils.evaluate(pointwiseRanker,test_queries)\n",
    "\n",
    "print \"Averate NDCG:\", ndcgs[\"all\"]"
   ]
  },
  {
   "cell_type": "code",
   "execution_count": 18,
   "metadata": {
    "collapsed": false
   },
   "outputs": [
    {
     "name": "stdout",
     "output_type": "stream",
     "text": [
      "input_dim 64 output_dim 1\n",
      "finished create_iter_functions\n"
     ]
    }
   ],
   "source": [
    "rankNet = RankNet(64)"
   ]
  },
  {
   "cell_type": "code",
   "execution_count": 19,
   "metadata": {
    "collapsed": false
   },
   "outputs": [
    {
     "name": "stdout",
     "output_type": "stream",
     "text": [
      "Epoch 1 of 1 took 2.775s\n",
      "training loss:\t\t-113.262177\n",
      "\n",
      "Averate NDCG: 0.693630661889\n",
      "Epoch 1 of 1 took 2.731s\n",
      "training loss:\t\t-39.884609\n",
      "\n",
      "Averate NDCG: 0.694510663571\n",
      "Epoch 1 of 1 took 2.749s\n",
      "training loss:\t\t-27.278128\n",
      "\n",
      "Averate NDCG: 0.717183894647\n",
      "Epoch 1 of 1 took 2.688s\n",
      "training loss:\t\t-19.378551\n",
      "\n",
      "Averate NDCG: 0.718205415318\n",
      "Epoch 1 of 1 took 2.741s\n",
      "training loss:\t\t-15.275111\n",
      "\n",
      "Averate NDCG: 0.715732219559\n",
      "Epoch 1 of 1 took 2.743s\n",
      "training loss:\t\t-12.456042\n",
      "\n",
      "Averate NDCG: 0.721462639325\n",
      "Epoch 1 of 1 took 2.719s\n",
      "training loss:\t\t-10.205426\n",
      "\n",
      "Averate NDCG: 0.726945398141\n",
      "Epoch 1 of 1 took 2.752s\n",
      "training loss:\t\t-8.932117\n",
      "\n",
      "Averate NDCG: 0.726945398141\n",
      "Epoch 1 of 1 took 2.736s\n",
      "training loss:\t\t-7.916603\n",
      "\n",
      "Averate NDCG: 0.730523950302\n",
      "Epoch 1 of 1 took 2.740s\n",
      "training loss:\t\t-6.783976\n",
      "\n",
      "Averate NDCG: 0.721990318655\n"
     ]
    }
   ],
   "source": [
    "for i in range(10):\n",
    "    rankNet.train_with_queries(train_queries,1)\n",
    "    \n",
    "    ndcgs = utils.evaluate(rankNet,val_queries)\n",
    "\n",
    "    print \"Averate NDCG:\", ndcgs[\"all\"]"
   ]
  },
  {
   "cell_type": "code",
   "execution_count": 23,
   "metadata": {
    "collapsed": false
   },
   "outputs": [
    {
     "name": "stdout",
     "output_type": "stream",
     "text": [
      "input_dim 64 output_dim 1\n",
      "finished create_iter_functions\n"
     ]
    }
   ],
   "source": [
    "lambdaRanker = LambdaRank(64)"
   ]
  },
  {
   "cell_type": "code",
   "execution_count": null,
   "metadata": {
    "collapsed": false
   },
   "outputs": [],
   "source": [
    "for i in range(100):\n",
    "    lambdaRanker.train_with_queries(train_queries,1)\n",
    "    \n",
    "    ndcgs = utils.evaluate(lambdaRanker,val_queries)\n",
    "\n",
    "    print \"Averate NDCG:\", ndcgs[\"all\"]"
   ]
  },
  {
   "cell_type": "code",
   "execution_count": 26,
   "metadata": {
    "collapsed": false
   },
   "outputs": [
    {
     "name": "stdout",
     "output_type": "stream",
     "text": [
      "Averate NDCG: 0.939636874794\n"
     ]
    }
   ],
   "source": [
    "\n",
    "ndcgs = utils.evaluate(lambdaRanker,train_queries)\n",
    "\n",
    "print \"Averate NDCG:\", ndcgs[\"all\"]"
   ]
  },
  {
   "cell_type": "code",
   "execution_count": null,
   "metadata": {
    "collapsed": false
   },
   "outputs": [],
   "source": [
    "\n",
    "epochs = 10\n",
    "\n",
    "all_folds_ndcgs = []\n",
    "for fold in range(1,5 + 1):\n",
    "    print \"-------------------------------------------------\"\n",
    "    print \"Fold \", fold\n",
    "    \n",
    "    #load queries\n",
    "    train_queries = query.load_queries(\"HP2003\\Fold\" + str(fold) + \"\\\\train.txt\", 64)\n",
    "    test_queries = query.load_queries(\"HP2003\\Fold\" + str(fold) + \"\\\\test.txt\", 64)\n",
    "    val_queries = query.load_queries(\"HP2003\\Fold\" + str(fold) + \"\\\\vali.txt\", 64)\n",
    "    \n",
    "    #store NDCG after each epoch for this fold\n",
    "    fold_ndcgs = []\n",
    "    \n",
    "    #train ranker\n",
    "    ranker = LambdaRankHW(64)\n",
    "    for epoch in range(epochs):\n",
    "        ranker.train_with_queries(train_queries,1)\n",
    "        ndcgs = evaluate(ranker,val_queries)\n",
    "        fold_ndcgs.append(ndcgs['all'])\n",
    "        print \"Epoch %d NDCG: %f\"%(epoch + 1, ndcgs['all'])\n",
    "   \n",
    "    print fold_ndcgs\n",
    "    \n",
    "    all_folds_ndcgs.append(fold_ndcgs)\n",
    "    \n",
    "\n",
    "ndcgs_per_epoch = numpy.mean(all_folds_ndcgs,axis = 0)\n",
    "        \n",
    "    "
   ]
  },
  {
   "cell_type": "code",
   "execution_count": 36,
   "metadata": {
    "collapsed": false
   },
   "outputs": [
    {
     "name": "stdout",
     "output_type": "stream",
     "text": [
      "loaded  0\n",
      "loaded queries from file\n",
      "loaded  0\n",
      "loaded queries from file\n",
      "loaded  0\n",
      "loaded queries from file\n",
      "loaded  0\n",
      "loaded queries from file\n",
      "loaded  0\n",
      "loaded queries from file\n",
      "loaded  0\n",
      "loaded queries from file\n",
      "loaded  0\n",
      "loaded queries from file\n",
      "loaded  0\n",
      "loaded queries from file\n",
      "loaded  0\n",
      "loaded queries from file\n",
      "loaded  0\n",
      "loaded queries from file\n",
      "loaded  0\n",
      "loaded queries from file\n",
      "loaded  0\n",
      "loaded queries from file\n",
      "loaded  0\n",
      "loaded queries from file\n",
      "loaded  0\n",
      "loaded queries from file\n",
      "loaded  0\n",
      "loaded queries from file\n"
     ]
    }
   ],
   "source": [
    "folds = []\n",
    "for i in range(1,5 + 1):\n",
    "    folds.append(utils.read_queries(i))\n"
   ]
  },
  {
   "cell_type": "code",
   "execution_count": 38,
   "metadata": {
    "collapsed": false
   },
   "outputs": [
    {
     "name": "stdout",
     "output_type": "stream",
     "text": [
      "<type 'tuple'>\n"
     ]
    }
   ],
   "source": []
  },
  {
   "cell_type": "code",
   "execution_count": 46,
   "metadata": {
    "collapsed": false
   },
   "outputs": [
    {
     "name": "stdout",
     "output_type": "stream",
     "text": [
      "-------------------------------------------------\n",
      "Fold  (<query.Queries instance at 0x00000000125174C8>, <query.Queries instance at 0x0000000012F2D4C8>, <query.Queries instance at 0x0000000012C5A548>)\n",
      "input_dim 64 output_dim 1\n",
      "finished create_iter_functions\n",
      "Epoch 1 NDCG: 0.574102\n",
      "Epoch 2 NDCG: 0.528532\n",
      "Epoch 3 NDCG: 0.489606\n",
      "Epoch 4 NDCG: 0.563810\n",
      "Epoch 5 NDCG: 0.643953\n",
      "[0.57410235742512594, 0.52853183960212236, 0.48960574507248666, 0.56381021047221791, 0.64395297957785202]\n",
      "-------------------------------------------------\n",
      "Fold  (<query.Queries instance at 0x00000000189E7788>, <query.Queries instance at 0x0000000012BBBC48>, <query.Queries instance at 0x0000000012EDA408>)\n",
      "input_dim 64 output_dim 1\n",
      "finished create_iter_functions\n",
      "Epoch 1 NDCG: 0.620633\n",
      "Epoch 2 NDCG: 0.516657\n",
      "Epoch 3 NDCG: 0.579802\n",
      "Epoch 4 NDCG: 0.777047\n",
      "Epoch 5 NDCG: 0.745772\n",
      "[0.62063271428022371, 0.51665712259412733, 0.57980180621693667, 0.77704692385041052, 0.74577219463173849]\n",
      "-------------------------------------------------\n",
      "Fold  (<query.Queries instance at 0x0000000012E5A0C8>, <query.Queries instance at 0x0000000018B310C8>, <query.Queries instance at 0x0000000018B2FFC8>)\n",
      "input_dim 64 output_dim 1\n",
      "finished create_iter_functions\n",
      "Epoch 1 NDCG: 0.080666\n",
      "Epoch 2 NDCG: 0.430217\n",
      "Epoch 3 NDCG: 0.387785\n",
      "Epoch 4 NDCG: 0.108149\n",
      "Epoch 5 NDCG: 0.558557\n",
      "[0.080666485996311516, 0.43021670246817134, 0.38778468483387335, 0.1081494946298282, 0.55855669088730264]\n",
      "-------------------------------------------------\n",
      "Fold  (<query.Queries instance at 0x0000000018B3FBC8>, <query.Queries instance at 0x00000000125121C8>, <query.Queries instance at 0x0000000012512E48>)\n",
      "input_dim 64 output_dim 1\n",
      "finished create_iter_functions\n",
      "Epoch 1 NDCG: 0.410178\n",
      "Epoch 2 NDCG: 0.658020\n",
      "Epoch 3 NDCG: 0.535368\n",
      "Epoch 4 NDCG: 0.514164\n",
      "Epoch 5 NDCG: 0.486850\n",
      "[0.4101775557108468, 0.65802021007917544, 0.53536825429110135, 0.51416422139678897, 0.48684986983459244]\n",
      "-------------------------------------------------\n",
      "Fold  (<query.Queries instance at 0x0000000013908B48>, <query.Queries instance at 0x0000000018660348>, <query.Queries instance at 0x0000000012BBB988>)\n",
      "input_dim 64 output_dim 1\n",
      "finished create_iter_functions\n",
      "Epoch 1 NDCG: 0.363215\n",
      "Epoch 2 NDCG: 0.506409\n",
      "Epoch 3 NDCG: 0.616923\n",
      "Epoch 4 NDCG: 0.670232\n",
      "Epoch 5 NDCG: 0.612926\n",
      "[0.36321464659338576, 0.50640876580803762, 0.61692323064459276, 0.67023229052759503, 0.61292580275319464]\n"
     ]
    }
   ],
   "source": [
    "ndcgs_per_epoch = Crossfold_validation(PointwiseRank, folds, 5)"
   ]
  },
  {
   "cell_type": "code",
   "execution_count": 47,
   "metadata": {
    "collapsed": false
   },
   "outputs": [
    {
     "data": {
      "text/plain": [
       "array([ 0.40975875,  0.52796693,  0.52189674,  0.52668063,  0.60961151])"
      ]
     },
     "execution_count": 47,
     "metadata": {},
     "output_type": "execute_result"
    }
   ],
   "source": [
    "ndcgs_per_epoch"
   ]
  },
  {
   "cell_type": "code",
   "execution_count": null,
   "metadata": {
    "collapsed": false
   },
   "outputs": [],
   "source": [
    "import pickle \n",
    "pickle.dump(ndcgs_per_epoch, open(\"ndcgs_per_epoch_ranknet\",\"wb\"))\n",
    "pickle.dump(all_folds_ndcgs, open(\"all_folds_ndcgs_ranknet\",\"wb\"))\n",
    "print ndcgs_per_epoch"
   ]
  },
  {
   "cell_type": "code",
   "execution_count": 33,
   "metadata": {
    "collapsed": true
   },
   "outputs": [],
   "source": [
    "\n",
    "def Test(rankClass):\n",
    "    ranker = rankClass(64)\n",
    "    for i in range(10):\n",
    "        ranker.train_with_queries(train_queries,1)\n",
    "\n",
    "        ndcgs = utils.evaluate(ranker,val_queries)\n",
    "\n",
    "        print \"Averate NDCG:\", ndcgs[\"all\"]"
   ]
  },
  {
   "cell_type": "code",
   "execution_count": 34,
   "metadata": {
    "collapsed": false
   },
   "outputs": [
    {
     "name": "stdout",
     "output_type": "stream",
     "text": [
      "input_dim 64 output_dim 1\n",
      "finished create_iter_functions\n",
      "Epoch 1 of 1 took 2.715s\n",
      "training loss:\t\t-111.814781\n",
      "\n",
      "Averate NDCG: 0.673402832352\n",
      "Epoch 1 of 1 took 2.800s\n",
      "training loss:\t\t-44.132084\n",
      "\n",
      "Averate NDCG: 0.669153174273\n",
      " Query 90 / 90Averate NDCG: 0.690178834796\n",
      " Query 30 / 90Averate NDCG: 0.680144501607\n",
      " Query 15 / 90Averate NDCG: 0.689779995818\n",
      " Query 4 / 90Averate NDCG: 0.689779995818\n",
      " Query 15 / 90Averate NDCG: 0.688132534649\n",
      " Query 1 / 90"
     ]
    },
    {
     "ename": "KeyboardInterrupt",
     "evalue": "",
     "output_type": "error",
     "traceback": [
      "\u001b[0;31m---------------------------------------------------------------------------\u001b[0m",
      "\u001b[0;31mKeyboardInterrupt\u001b[0m                         Traceback (most recent call last)",
      "\u001b[0;32m<ipython-input-34-04f9e2e6647c>\u001b[0m in \u001b[0;36m<module>\u001b[0;34m()\u001b[0m\n\u001b[0;32m----> 1\u001b[0;31m \u001b[0mTest\u001b[0m\u001b[1;33m(\u001b[0m\u001b[0mRankNet\u001b[0m\u001b[1;33m)\u001b[0m\u001b[1;33m\u001b[0m\u001b[0m\n\u001b[0m",
      "\u001b[0;32m<ipython-input-33-b18ca2d0c2be>\u001b[0m in \u001b[0;36mTest\u001b[0;34m(rankClass)\u001b[0m\n\u001b[1;32m      5\u001b[0m         \u001b[0mranker\u001b[0m\u001b[1;33m.\u001b[0m\u001b[0mtrain_with_queries\u001b[0m\u001b[1;33m(\u001b[0m\u001b[0mtrain_queries\u001b[0m\u001b[1;33m,\u001b[0m\u001b[1;36m1\u001b[0m\u001b[1;33m)\u001b[0m\u001b[1;33m\u001b[0m\u001b[0m\n\u001b[1;32m      6\u001b[0m \u001b[1;33m\u001b[0m\u001b[0m\n\u001b[0;32m----> 7\u001b[0;31m         \u001b[0mndcgs\u001b[0m \u001b[1;33m=\u001b[0m \u001b[0mutils\u001b[0m\u001b[1;33m.\u001b[0m\u001b[0mevaluate\u001b[0m\u001b[1;33m(\u001b[0m\u001b[0mranker\u001b[0m\u001b[1;33m,\u001b[0m\u001b[0mval_queries\u001b[0m\u001b[1;33m)\u001b[0m\u001b[1;33m\u001b[0m\u001b[0m\n\u001b[0m\u001b[1;32m      8\u001b[0m \u001b[1;33m\u001b[0m\u001b[0m\n\u001b[1;32m      9\u001b[0m         \u001b[1;32mprint\u001b[0m \u001b[1;34m\"Averate NDCG:\"\u001b[0m\u001b[1;33m,\u001b[0m \u001b[0mndcgs\u001b[0m\u001b[1;33m[\u001b[0m\u001b[1;34m\"all\"\u001b[0m\u001b[1;33m]\u001b[0m\u001b[1;33m\u001b[0m\u001b[0m\n",
      "\u001b[0;32mC:\\Users\\Thanos\\Documents\\Python Scripts\\Homework-3_BACKUP\\utils.py\u001b[0m in \u001b[0;36mevaluate\u001b[0;34m(ranker, queries)\u001b[0m\n\u001b[1;32m     72\u001b[0m         \u001b[0mscores\u001b[0m \u001b[1;33m=\u001b[0m \u001b[0mranker\u001b[0m\u001b[1;33m.\u001b[0m\u001b[0mscore\u001b[0m\u001b[1;33m(\u001b[0m\u001b[0mquery\u001b[0m\u001b[1;33m)\u001b[0m\u001b[1;33m.\u001b[0m\u001b[0mflatten\u001b[0m\u001b[1;33m(\u001b[0m\u001b[1;33m)\u001b[0m\u001b[1;33m\u001b[0m\u001b[0m\n\u001b[1;32m     73\u001b[0m         \u001b[0mlabels\u001b[0m \u001b[1;33m=\u001b[0m \u001b[0mquery\u001b[0m\u001b[1;33m.\u001b[0m\u001b[0mget_labels\u001b[0m\u001b[1;33m(\u001b[0m\u001b[1;33m)\u001b[0m\u001b[1;33m\u001b[0m\u001b[0m\n\u001b[0;32m---> 74\u001b[0;31m         \u001b[0mNDCG\u001b[0m \u001b[1;33m=\u001b[0m \u001b[0mget_NDCG\u001b[0m\u001b[1;33m(\u001b[0m\u001b[0mscores\u001b[0m\u001b[1;33m,\u001b[0m\u001b[0mlabels\u001b[0m\u001b[1;33m,\u001b[0m \u001b[0mmin\u001b[0m\u001b[1;33m(\u001b[0m\u001b[0mlen\u001b[0m\u001b[1;33m(\u001b[0m\u001b[0mlabels\u001b[0m\u001b[1;33m)\u001b[0m\u001b[1;33m,\u001b[0m \u001b[1;36m10\u001b[0m\u001b[1;33m)\u001b[0m\u001b[1;33m)\u001b[0m\u001b[1;33m\u001b[0m\u001b[0m\n\u001b[0m\u001b[1;32m     75\u001b[0m         \u001b[0mndcgs\u001b[0m\u001b[1;33m[\u001b[0m\u001b[0mquery\u001b[0m\u001b[1;33m.\u001b[0m\u001b[0mget_qid\u001b[0m\u001b[1;33m(\u001b[0m\u001b[1;33m)\u001b[0m\u001b[1;33m]\u001b[0m \u001b[1;33m=\u001b[0m \u001b[0mNDCG\u001b[0m\u001b[1;33m\u001b[0m\u001b[0m\n\u001b[1;32m     76\u001b[0m \u001b[1;33m\u001b[0m\u001b[0m\n",
      "\u001b[0;32mC:\\Users\\Thanos\\Documents\\Python Scripts\\Homework-3_BACKUP\\utils.py\u001b[0m in \u001b[0;36mget_NDCG\u001b[0;34m(scores, labels, k)\u001b[0m\n\u001b[1;32m     28\u001b[0m     \u001b[0msum\u001b[0m \u001b[1;33m=\u001b[0m \u001b[1;36m0\u001b[0m\u001b[1;33m\u001b[0m\u001b[0m\n\u001b[1;32m     29\u001b[0m     \u001b[1;32mfor\u001b[0m \u001b[0mr\u001b[0m \u001b[1;32min\u001b[0m \u001b[0mrange\u001b[0m\u001b[1;33m(\u001b[0m\u001b[0mk\u001b[0m\u001b[1;33m)\u001b[0m\u001b[1;33m:\u001b[0m\u001b[1;33m\u001b[0m\u001b[0m\n\u001b[0;32m---> 30\u001b[0;31m         \u001b[0mval\u001b[0m \u001b[1;33m=\u001b[0m  \u001b[0mnumpy\u001b[0m\u001b[1;33m.\u001b[0m\u001b[0mpower\u001b[0m\u001b[1;33m(\u001b[0m\u001b[1;36m2\u001b[0m\u001b[1;33m,\u001b[0m \u001b[0mlabels\u001b[0m\u001b[1;33m[\u001b[0m\u001b[0mscores\u001b[0m\u001b[1;33m[\u001b[0m\u001b[0mr\u001b[0m\u001b[1;33m]\u001b[0m\u001b[1;33m[\u001b[0m\u001b[1;36m1\u001b[0m\u001b[1;33m]\u001b[0m\u001b[1;33m]\u001b[0m\u001b[1;33m)\u001b[0m \u001b[1;33m-\u001b[0m \u001b[1;36m1\u001b[0m\u001b[1;33m\u001b[0m\u001b[0m\n\u001b[0m\u001b[1;32m     31\u001b[0m         \u001b[0mval\u001b[0m \u001b[1;33m/=\u001b[0m \u001b[0mmath\u001b[0m\u001b[1;33m.\u001b[0m\u001b[0mlog\u001b[0m\u001b[1;33m(\u001b[0m\u001b[0mr\u001b[0m\u001b[1;33m+\u001b[0m\u001b[1;36m1\u001b[0m \u001b[1;33m+\u001b[0m \u001b[1;36m1\u001b[0m\u001b[1;33m,\u001b[0m\u001b[1;36m2\u001b[0m\u001b[1;33m)\u001b[0m\u001b[1;33m\u001b[0m\u001b[0m\n\u001b[1;32m     32\u001b[0m         \u001b[0msum\u001b[0m \u001b[1;33m+=\u001b[0m \u001b[0mval\u001b[0m\u001b[1;33m\u001b[0m\u001b[0m\n",
      "\u001b[0;31mKeyboardInterrupt\u001b[0m: "
     ]
    }
   ],
   "source": [
    "Test(RankNet)"
   ]
  },
  {
   "cell_type": "code",
   "execution_count": 35,
   "metadata": {
    "collapsed": false
   },
   "outputs": [
    {
     "name": "stdout",
     "output_type": "stream",
     "text": [
      "input_dim 64 output_dim 1\n",
      "finished create_iter_functions\n",
      "Averate NDCG: 0.510031512495\n",
      "Averate NDCG: 0.494985994236\n",
      "Averate NDCG: 0.616725429384\n",
      "Averate NDCG: 0.627303940399\n",
      "Averate NDCG: 0.666873758604\n",
      "Averate NDCG: 0.625668857147\n",
      "Averate NDCG: 0.66521424963\n",
      "Averate NDCG: 0.65389757702\n",
      "Averate NDCG: 0.682617411577\n",
      "Averate NDCG: 0.653505091283\n"
     ]
    }
   ],
   "source": [
    "Test(PointwiseRank)"
   ]
  },
  {
   "cell_type": "code",
   "execution_count": null,
   "metadata": {
    "collapsed": true
   },
   "outputs": [],
   "source": []
  },
  {
   "cell_type": "code",
   "execution_count": null,
   "metadata": {
    "collapsed": true
   },
   "outputs": [],
   "source": []
  },
  {
   "cell_type": "code",
   "execution_count": null,
   "metadata": {
    "collapsed": true
   },
   "outputs": [],
   "source": []
  },
  {
   "cell_type": "markdown",
   "metadata": {},
   "source": [
    "### Vectorization Techniques"
   ]
  },
  {
   "cell_type": "code",
   "execution_count": null,
   "metadata": {
    "collapsed": false
   },
   "outputs": [],
   "source": [
    "a = numpy.array([1,2,3,4,5])\n",
    "a.resize((10, ))\n",
    "\n",
    "b = numpy.array([1,2,3,4,5])\n",
    "b.resize((10, ))\n",
    "\n",
    "print(numpy.dot(a,b))\n",
    "\n",
    "p = numpy.random.permutation(len(a))\n",
    "print(a[p], b[p])"
   ]
  },
  {
   "cell_type": "code",
   "execution_count": null,
   "metadata": {
    "collapsed": false
   },
   "outputs": [],
   "source": [
    "\n",
    "train_queries2 = query.load_queries(\"HP2003\\Fold\" + str(2) + \"\\\\train.txt\", 64)\n",
    "test_queries2 = query.load_queries(\"HP2003\\Fold\" + str(2) + \"\\\\test.txt\", 64)\n",
    "val_queries2 = query.load_queries(\"HP2003\\Fold\" + str(2) + \"\\\\vali.txt\", 64)"
   ]
  },
  {
   "cell_type": "code",
   "execution_count": null,
   "metadata": {
    "collapsed": false
   },
   "outputs": [],
   "source": [
    "print(sorted(test_queries.keys()))\n",
    "print(sorted(test_queries2.keys()))"
   ]
  },
  {
   "cell_type": "code",
   "execution_count": null,
   "metadata": {
    "collapsed": false
   },
   "outputs": [],
   "source": [
    "print(sorted(train_queries.keys()))\n",
    "print(sorted(val_queries.keys()))\n",
    "print(sorted(test_queries.keys()))\n",
    "print \"\"\n",
    "\n",
    "\n",
    "print(sorted(train_queries2.keys()))\n",
    "print(sorted(val_queries2.keys()))\n",
    "print(sorted(test_queries2.keys()))\n",
    "\n",
    "# print(sorted(val_queries2.keys()))"
   ]
  },
  {
   "cell_type": "code",
   "execution_count": null,
   "metadata": {
    "collapsed": false
   },
   "outputs": [],
   "source": [
    "\n",
    "start = time.time()\n",
    "a = numpy.zeros((1000,1000))\n",
    "for i in range(1000):\n",
    "    for j in range(1000):\n",
    "        a[i][j] =  i*9 + j*2 + np.log((i+1)*(j+1))\n",
    "        \n",
    "print time.time() - start\n",
    "print a"
   ]
  },
  {
   "cell_type": "code",
   "execution_count": null,
   "metadata": {
    "collapsed": false
   },
   "outputs": [],
   "source": [
    "def fun(i,j):\n",
    "    return -1 / (1 + np.exp(i - j))#i*9 + j*2 + np.log((i+1)*(j+1))\n",
    "    \n",
    "vec = np.vectorize(fun)\n",
    "start = time.time()\n",
    "s = np.fromfunction(lambda i, j: vec(i,j), (1000, 1000), dtype=int)\n",
    "print time.time() - start\n",
    "print s"
   ]
  },
  {
   "cell_type": "code",
   "execution_count": null,
   "metadata": {
    "collapsed": false
   },
   "outputs": [],
   "source": [
    "start = time.time()\n",
    "a = np.array( [ [ - 1/ np.exp(i - j) for j in xrange(1000)] for i in xrange(1000)] )\n",
    "print time.time() - start\n",
    "print a"
   ]
  },
  {
   "cell_type": "code",
   "execution_count": null,
   "metadata": {
    "collapsed": false
   },
   "outputs": [],
   "source": [
    "\n",
    "start = time.time()\n",
    "indices = numpy.indices((1000, 1000))\n",
    "a = vec(indices[0],indices[1])\n",
    "print time.time() - start\n",
    "print a"
   ]
  },
  {
   "cell_type": "code",
   "execution_count": null,
   "metadata": {
    "collapsed": false
   },
   "outputs": [],
   "source": [
    "\n",
    "start = time.time()\n",
    "a = np.frompyfunc(\n",
    "    lambda i, j: fun(i, j), 2, 1\n",
    ").outer(\n",
    "    np.arange(1000),\n",
    "    np.arange(1000),\n",
    ").astype(np.float64)  # a_ij = f(i, j)\n",
    "\n",
    "\n",
    "print time.time() - start\n",
    "print a"
   ]
  },
  {
   "cell_type": "code",
   "execution_count": null,
   "metadata": {
    "collapsed": false
   },
   "outputs": [],
   "source": [
    "from scipy.spatial import distance\n",
    "\n",
    "\n",
    "a =  numpy.arange(1000).reshape(1000,1)\n",
    "b =  numpy.arange(1000).reshape(1000,1)\n",
    "\n",
    "start = time.time()\n",
    "dist = distance.cdist(a,b, lambda x,y: -1 / (1 + np.exp(x[0] - y[0])))#) # pick the appropriate distance metric \n",
    "\n",
    "print dist\n",
    "\n",
    "print time.time() - start"
   ]
  },
  {
   "cell_type": "code",
   "execution_count": null,
   "metadata": {
    "collapsed": false
   },
   "outputs": [],
   "source": [
    "a = [[]] * 10\n",
    "a"
   ]
  },
  {
   "cell_type": "code",
   "execution_count": null,
   "metadata": {
    "collapsed": false
   },
   "outputs": [],
   "source": [
    "a = [[1,2,3],[1,1],[3,3,2]]\n",
    "print [np.sum(x) for x in a]"
   ]
  },
  {
   "cell_type": "code",
   "execution_count": null,
   "metadata": {
    "collapsed": false
   },
   "outputs": [],
   "source": [
    "from LambdaRank import LambdaRank\n",
    "\n",
    "rankeer = LambdaRank(64)"
   ]
  },
  {
   "cell_type": "code",
   "execution_count": null,
   "metadata": {
    "collapsed": false
   },
   "outputs": [],
   "source": [
    "for i in range(10):\n",
    "    rankeer.train_with_queries(train_queries,1)\n",
    "    \n",
    "    ndcgs = evaluate(rankeer,val_queries)\n",
    "\n",
    "    print \"Averate NDCG:\", ndcgs[\"all\"]"
   ]
  },
  {
   "cell_type": "code",
   "execution_count": null,
   "metadata": {
    "collapsed": false
   },
   "outputs": [],
   "source": [
    "from RankNet import RankNet\n",
    "\n",
    "rankNet = RankNet(64)"
   ]
  },
  {
   "cell_type": "code",
   "execution_count": null,
   "metadata": {
    "collapsed": false
   },
   "outputs": [],
   "source": [
    "for i in range(10):\n",
    "    rankNet.train_with_queries(train_queries,1)\n",
    "    \n",
    "    ndcgs = evaluate(rankNet,val_queries)\n",
    "\n",
    "    print \"Averate NDCG:\", ndcgs[\"all\"]"
   ]
  },
  {
   "cell_type": "code",
   "execution_count": null,
   "metadata": {
    "collapsed": false
   },
   "outputs": [],
   "source": [
    "from PointwiseRank import PointwiseRank\n",
    "\n",
    "pointwiseRank = PointwiseRank(64)"
   ]
  },
  {
   "cell_type": "code",
   "execution_count": null,
   "metadata": {
    "collapsed": false
   },
   "outputs": [],
   "source": [
    "for i in range(10):\n",
    "    pointwiseRank.train_with_queries(train_queries,1)\n",
    "    \n",
    "    ndcgs = evaluate(pointwiseRank,val_queries)\n",
    "\n",
    "    print \"Averate NDCG:\", ndcgs[\"all\"]"
   ]
  },
  {
   "cell_type": "code",
   "execution_count": null,
   "metadata": {
    "collapsed": true
   },
   "outputs": [],
   "source": []
  }
 ],
 "metadata": {
  "anaconda-cloud": {},
  "kernelspec": {
   "display_name": "Python [default]",
   "language": "python",
   "name": "python2"
  },
  "language_info": {
   "codemirror_mode": {
    "name": "ipython",
    "version": 2
   },
   "file_extension": ".py",
   "mimetype": "text/x-python",
   "name": "python",
   "nbconvert_exporter": "python",
   "pygments_lexer": "ipython2",
   "version": "2.7.12"
  }
 },
 "nbformat": 4,
 "nbformat_minor": 1
}
