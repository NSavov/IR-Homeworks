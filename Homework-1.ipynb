{
 "cells": [
  {
   "cell_type": "code",
   "execution_count": 31,
   "metadata": {
    "collapsed": false
   },
   "outputs": [],
   "source": [
    "import itertools\n",
    "import math\n",
    "import random\n",
    "import numpy"
   ]
  },
  {
   "cell_type": "code",
   "execution_count": 32,
   "metadata": {
    "collapsed": false
   },
   "outputs": [
    {
     "name": "stdout",
     "output_type": "stream",
     "text": [
      "[[0, 0, 0, 0, 0], [2, 2, 2, 2, 2]]\n"
     ]
    }
   ],
   "source": [
    "possible_rankings = itertools.product([0,1,2], repeat=5)\n",
    "P = [list(i) for i in possible_rankings]\n",
    "E = P[:]\n",
    "\n",
    "L = []\n",
    "for item1 in P:\n",
    "    for item2 in E:\n",
    "        pair = []\n",
    "        pair.append(item1)\n",
    "        pair.append(item2)\n",
    "        L.append(pair)\n",
    "print L[242]"
   ]
  },
  {
   "cell_type": "code",
   "execution_count": 33,
   "metadata": {
    "collapsed": false
   },
   "outputs": [
    {
     "name": "stdout",
     "output_type": "stream",
     "text": [
      "[[0, 0, 0, 0, 0], [0, 1, 2, 0, 0]]\n",
      "0.0 , 0.666666666667\n",
      "0.0 , 2.13092975357\n",
      "50.9456751679\n",
      "0.5184\n"
     ]
    }
   ],
   "source": [
    "#Precision at K\n",
    "def precision(res, k):\n",
    "    counter = 0\n",
    "    for i in range(k):\n",
    "        if res[i] != 0:\n",
    "            counter += 1\n",
    "    return 1.0*counter / k\n",
    "\n",
    "def DCG(res, k):\n",
    "    sum = 0\n",
    "    for r in range(1,k+1):\n",
    "        sum += (2**res[r-1] - 1)/math.log(1+r,2)\n",
    "    return sum\n",
    "\n",
    "def RBP(res, theta = 0.8):\n",
    "    sum = 0\n",
    "    for k in range(1, len(res)):\n",
    "        sum += res[k-1] * theta**(k-1)*(1 - theta)\n",
    "    return sum\n",
    "\n",
    "print L[45]\n",
    "print precision(L[45][0],k = 3),',', precision(L[45][1],k = 3)\n",
    "print DCG(L[45][0],k = 3),',',DCG(L[45][1],k = 3)\n",
    "print DCG([5,5,0,0,1,0,0,0,0,0], 10)\n",
    "print RBP([0,1,2,1,0])#L[45][1])"
   ]
  },
  {
   "cell_type": "code",
   "execution_count": 34,
   "metadata": {
    "collapsed": false
   },
   "outputs": [
    {
     "name": "stdout",
     "output_type": "stream",
     "text": [
      "[[0, 0, 2, 1, 1], [1, 0, 0, 1, 2]]\n",
      "[[[0, 0, 2, 2, 1], [2, 0, 2, 2, 2]], 3.7737056144690833]\n",
      "3.77370561447\n"
     ]
    }
   ],
   "source": [
    "def measure(pairs, measure, k=5):\n",
    "    result = []\n",
    "    for pair in pairs:\n",
    "        if measure == \"precision\":\n",
    "            P = precision(pair[0], k)\n",
    "            E = precision(pair[1], k)\n",
    "        \n",
    "        if measure == \"DCG\":\n",
    "            P = DCG(pair[0], k)\n",
    "            E = DCG(pair[1], k)\n",
    "            \n",
    "        if measure == \"RBP\":\n",
    "            P = RBP(pair[0])\n",
    "            E = RBP(pair[1])\n",
    "         \n",
    "        diff = E - P\n",
    "        \n",
    "        if diff > 0:\n",
    "            result.append([pair, diff])\n",
    "            \n",
    "    return result\n",
    "\n",
    "res = measure(L, \"DCG\")\n",
    "print L[5432]\n",
    "print res[5432]\n",
    "\n",
    "print DCG([2, 0, 2, 2, 2], 5) - DCG([0, 0, 2, 2, 1], 5)"
   ]
  },
  {
   "cell_type": "code",
   "execution_count": 35,
   "metadata": {
    "collapsed": false
   },
   "outputs": [
    {
     "name": "stdout",
     "output_type": "stream",
     "text": [
      "[[0, 0], [1, 1], [2, 0], [6, 1], [4, 1], [3, 0], [5, 0]]\n"
     ]
    },
    {
     "data": {
      "text/plain": [
       "0"
      ]
     },
     "execution_count": 35,
     "metadata": {},
     "output_type": "execute_result"
    }
   ],
   "source": [
    "#Team Draft Interleaving\n",
    "def get_clicks(l, number):\n",
    "    ind_order = range(len(l))\n",
    "    random.shuffle(ind_order)\n",
    "    return ind_order[:number]\n",
    "\n",
    "#a) create the interleaving list\n",
    "def team_draft_interleave(pair):\n",
    "    lists = [pair[0],pair[1]]\n",
    "    l = []\n",
    "    a = []\n",
    "    while lists[0] or lists[1]:\n",
    "        if lists[0] and lists[1]:\n",
    "            first = random.randint(0,1)\n",
    "        elif lists[0]:\n",
    "            first = 0\n",
    "        else:\n",
    "            first = 1\n",
    "        second = int(math.fabs(first-1))\n",
    "\n",
    "        #pick from the first list\n",
    "        doc = lists[first][0]\n",
    "        l.append(doc)\n",
    "        a.append(first)\n",
    "        #delete the doc from the first list (top element) and the second list\n",
    "        del lists[first][0]   \n",
    "        try:\n",
    "            lists[second].remove(doc)     \n",
    "        except:\n",
    "            pass\n",
    "            \n",
    "        #pick from the second list\n",
    "        if lists[second]:\n",
    "            doc = lists[second][0]\n",
    "            l.append(doc)\n",
    "            a.append(second) \n",
    "            #delete the doc from the second list (top element) and the first list\n",
    "            del lists[second][0]        \n",
    "            try:\n",
    "                lists[first].remove(doc)    \n",
    "            except:\n",
    "                pass\n",
    "\n",
    "    test = []\n",
    "    for i in range(len(l)):\n",
    "        test.append([l[i],a[i]])\n",
    "    print test\n",
    "    return test #l,a\n",
    "    \n",
    "#b) evaluate the interleaved list\n",
    "def team_draft_evaluate(interleaved, clicks):\n",
    "    counters = [0, 0]\n",
    "    for index in clicks:\n",
    "        counters[interleaved[index][1]]+=1\n",
    "    return numpy.sign(counters[0]-counters[1])\n",
    "\n",
    "def team_draft(pair, n_clicks=2):\n",
    "    interleaved = team_draft_interleave(pair)\n",
    "    clicks = get_clicks(interleaved, n_clicks)\n",
    "    evaluation = team_draft_evaluate(interleaved, clicks)\n",
    "    return evaluation\n",
    "\n",
    "team_draft([[0,1,2,3,4,5],[0,1,2,6,4,5]]) #L[1213])"
   ]
  },
  {
   "cell_type": "code",
   "execution_count": 38,
   "metadata": {
    "collapsed": false
   },
   "outputs": [
    {
     "name": "stdout",
     "output_type": "stream",
     "text": [
      "[[0, 0, 0, 1, 2], [0, 0, 2, 0, 1]]\n",
      "(['00', '01', '02', '13', '24'], ['05', '06', '27', '08', '19'])\n"
     ]
    },
    {
     "name": "stderr",
     "output_type": "stream",
     "text": [
      "C:\\Program Files\\Anaconda2\\lib\\site-packages\\ipykernel\\__main__.py:32: VisibleDeprecationWarning: converting an array with ndim > 0 to an index will result in an error in the future\n",
      "C:\\Program Files\\Anaconda2\\lib\\site-packages\\ipykernel\\__main__.py:34: VisibleDeprecationWarning: converting an array with ndim > 0 to an index will result in an error in the future\n"
     ]
    },
    {
     "data": {
      "text/plain": [
       "0"
      ]
     },
     "execution_count": 38,
     "metadata": {},
     "output_type": "execute_result"
    }
   ],
   "source": [
    "#Probabilistic Interleaving\n",
    "\n",
    "def preprocess(pair):\n",
    "    c = 0\n",
    "    new_pair = ([], [])\n",
    "    for i in range(2):\n",
    "        for item in pair[i]:\n",
    "            new_pair[i].append(str(item)+ str(c))\n",
    "            c+=1\n",
    "    return new_pair\n",
    "\n",
    "\n",
    "#a) create the interleaving list\n",
    "def prob_interleave(pair, tau = 3):\n",
    "    lists = [zip(pair[0],[0]*len(pair[0])), zip(pair[1],[1]*len(pair[1]))]\n",
    "    result = []\n",
    "    while lists[0] or lists[1]:\n",
    "        \n",
    "        if lists[0] and lists[1]:\n",
    "            selected = random.randint(0,1)\n",
    "        elif lists[0]:\n",
    "            selected = 0\n",
    "        else:\n",
    "            selected = 1\n",
    "        \n",
    "        sum = 0\n",
    "        for i in range(0, len(lists[selected])):\n",
    "            sum += 1.0/((i+1)**tau)\n",
    "            \n",
    "        p = [(1.0/((i+1)**tau))/sum for i in range(0, len(lists[selected]))]\n",
    "        doc_index = numpy.random.choice(range(len(lists[selected])),1,p=p)\n",
    "        doc = lists[selected][doc_index]\n",
    "        result.append(doc)\n",
    "        del lists[selected][doc_index]\n",
    "        other_ind = int(math.fabs(selected-1))\n",
    "        if lists[other_ind]:\n",
    "            for i in range(len(lists[other_ind])):\n",
    "                if lists[other_ind][i][0] == doc[0]:\n",
    "                    del lists[other_ind][i]\n",
    "                    break\n",
    "    return result\n",
    "        \n",
    "    \n",
    "#b) evaluate the interleaved list\n",
    "def prob_evaluate(interleaved, clicks):\n",
    "    return team_draft_evaluate(interleaved, clicks)\n",
    "\n",
    "def prob(pair, n_clicks=2):\n",
    "    interleaved = prob_interleave(pair)\n",
    "    clicks = get_clicks(interleaved, n_clicks)\n",
    "    return prob_evaluate(interleaved, clicks)\n",
    "    \n",
    "print L[1234]\n",
    "pair = preprocess(L[1234])\n",
    "print pair\n",
    "# pair = ([1, 2, 3, 4, 5], [2, 3, 4, 5, 6])\n",
    "prob(pair)"
   ]
  },
  {
   "cell_type": "code",
   "execution_count": 18,
   "metadata": {
    "collapsed": false
   },
   "outputs": [
    {
     "name": "stdout",
     "output_type": "stream",
     "text": [
      "[['7', '103', '51', '92', '43', '12', '73', '69', '27', '105'], []]\n",
      "[['1625', '1627', '1623', '1626', '1624', '1622', '1619', '1621', '1620', '1618'], []]\n",
      "[['2094', '2091', '2087', '2089', '2093', '2088', '2090', '2092', '2095', '2086'], []]\n",
      "[['1625', '1627', '1623', '1626', '1624', '1622', '1619', '1621', '1620', '1618'], []]\n",
      "[['17562', '1627', '1626', '1623', '2091', '17559', '17563', '17558', '17561', '17560'], ['17562', '1627', '1626']]\n"
     ]
    }
   ],
   "source": [
    "\n",
    "table = []\n",
    "with open('YandexRelPredChallenge.txt', 'r') as f:\n",
    "    for line in f:\n",
    "        line = line.split()\n",
    "        table.append(line)\n",
    "f.closed\n",
    "\n",
    "sum = 0\n",
    "S = []\n",
    "for line in table:\n",
    "    if(line[2]) == 'Q':\n",
    "        S.append([])\n",
    "        S[-1].append(line[5:])\n",
    "        S[-1].append([])\n",
    "    if(line[2]) == 'C':\n",
    "        c = line[-1] \n",
    "        for i in range(-1,-len(S) - 1, -1): #attribute the click to the last query that had this document as a result\n",
    "#             if i!= -1:\n",
    "#                 print line[0]\n",
    "            if c in S[i][0]:\n",
    "                S[i][1].append(c)\n",
    "                break;\n",
    "\n",
    "# create the sessions list (old way, session = yandex session)\n",
    "# for key, group in itertools.groupby(table,lambda x: x[0]):\n",
    "#     Q = []\n",
    "#     for item in group:\n",
    "#         if(item[2]) == 'Q':\n",
    "#             Q.append([]) #the new query\n",
    "#             Q[-1].append(item[5:]) #append the list of ranked documents\n",
    "#             Q[-1].append([]) #append the clicks for this query (empty at first)\n",
    "#         if(item[2]) == 'C':\n",
    "#             c = item[-1] \n",
    "#             Q[-1][-1].append(c) #add the click on the last query    \n",
    "#     S.append(Q)\n",
    "# calculate the parameter for RCM (old way, session = yandex session)\n",
    "# sum1 = 0\n",
    "# sum2 = 0\n",
    "# for s in S:\n",
    "#     clicks = set()\n",
    "#     for q in s:\n",
    "#         for c in q[1]:\n",
    "#             clicks.add(c)\n",
    "#     sum1 += len(clicks)\n",
    "    \n",
    "#     docs = []\n",
    "#     for q in s:\n",
    "#         docs.extend(q[0])\n",
    "#     docs = set(docs)\n",
    "#     sum2 += len(docs)\n",
    "\n",
    "# r = 1.0*sum1/sum2\n",
    "# print 1.0*sum1/sum2\n",
    "\n",
    "\n",
    "for i in range(5):\n",
    "    print S[i]"
   ]
  },
  {
   "cell_type": "code",
   "execution_count": 29,
   "metadata": {
    "collapsed": false
   },
   "outputs": [
    {
     "name": "stdout",
     "output_type": "stream",
     "text": [
      "[1, 7]\n",
      "[1, 2, 4]\n",
      "[3, 7, 9]\n",
      "[]\n",
      "[]\n",
      "[2, 9]\n",
      "[1, 2, 4, 7]\n",
      "[]\n",
      "[]\n",
      "[]\n"
     ]
    }
   ],
   "source": [
    "def RCM_parameter(S):\n",
    "    sum1 = 0\n",
    "    sum2 = 0\n",
    "    for s in S:\n",
    "        clicks = set()\n",
    "        for c in s[1]:\n",
    "            clicks.add(c)\n",
    "        sum1 += len(clicks)\n",
    "\n",
    "        sum2 += len(s[0])\n",
    "\n",
    "    return 1.0*sum1/sum2\n",
    "\n",
    "def RCM(r,l):\n",
    "    c = []\n",
    "    for i in range(len(l)):\n",
    "        p = random.uniform(0, 1)\n",
    "        if p < r:\n",
    "            c.append(i)\n",
    "    return c\n",
    "\n",
    "r = RCM_parameter(S)\n",
    "for i in range(10):\n",
    "    print RCM(r,[1,2,3,4,5,6,7,8,9,0])\n"
   ]
  },
  {
   "cell_type": "code",
   "execution_count": 26,
   "metadata": {
    "collapsed": false
   },
   "outputs": [
    {
     "name": "stdout",
     "output_type": "stream",
     "text": [
      "[3]\n",
      "[0]\n",
      "[1, 2, 4]\n",
      "[0]\n",
      "[0]\n",
      "[0, 1, 4]\n",
      "[1, 2, 3]\n",
      "[0]\n",
      "[0]\n",
      "[0, 1]\n"
     ]
    }
   ],
   "source": [
    "def get_Sr(queries, r):\n",
    "    return  filter(lambda query: query[0][r-1] in query[1] , queries)\n",
    "\n",
    "def get_lambda_r(queries, r):\n",
    "    Sr = get_Sr(queries, r)\n",
    "    n = len(Sr)\n",
    "\n",
    "    sum = 0\n",
    "    for s in Sr:\n",
    "        indices = [-1] + sorted([s[0].index(doc1) for doc1 in s[1]])\n",
    "        last_clicked = indices[-1]+1\n",
    "        additive = 0\n",
    "        if last_clicked != r:\n",
    "            additive = 1\n",
    "        sum += additive\n",
    "    return sum/float(len(Sr))\n",
    "        \n",
    "def get_lambdas(queries, maxr=10):\n",
    "    return [get_lambda_r(queries, r) for r in range(1, maxr+1)]\n",
    "\n",
    "#get the clicks for the ranked document list, where\n",
    "#'l_r' is the probability of continuing examination when the document at rank 'r' was clicked\n",
    "#'a_u' is the attractiveness of document 'u' for this specific query\n",
    "def SDCM(a_u,l_r):\n",
    "    clicks = []\n",
    "    for i in range(len(a_u)):\n",
    "        p = random.uniform(0,1) #choose if to click\n",
    "        if p < a_u[i]:\n",
    "            clicks.append(i) \n",
    "            p = random.uniform(0,1) #choose if to stop examining\n",
    "            if p < l_r[i]:\n",
    "                continue\n",
    "            else:\n",
    "                break\n",
    "    return clicks\n",
    "\n",
    "\n",
    "lambdas = get_lambdas(S)\n",
    "for i in range(10):\n",
    "    print SDCM([0.8, 0.9, 0.3, 0.5, 0.6, 0.4], lambdas)#[0.5, 0.6, 0.4, 0.3, 0.2, 0.3])\n",
    "            \n",
    "        "
   ]
  },
  {
   "cell_type": "code",
   "execution_count": null,
   "metadata": {
    "collapsed": true
   },
   "outputs": [],
   "source": []
  },
  {
   "cell_type": "code",
   "execution_count": null,
   "metadata": {
    "collapsed": true
   },
   "outputs": [],
   "source": []
  }
 ],
 "metadata": {
  "anaconda-cloud": {},
  "kernelspec": {
   "display_name": "Python [default]",
   "language": "python",
   "name": "python2"
  },
  "language_info": {
   "codemirror_mode": {
    "name": "ipython",
    "version": 2
   },
   "file_extension": ".py",
   "mimetype": "text/x-python",
   "name": "python",
   "nbconvert_exporter": "python",
   "pygments_lexer": "ipython2",
   "version": "2.7.12"
  }
 },
 "nbformat": 4,
 "nbformat_minor": 0
}
