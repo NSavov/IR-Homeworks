{
 "cells": [
  {
   "cell_type": "code",
   "execution_count": 88,
   "metadata": {
    "collapsed": false
   },
   "outputs": [
    {
     "name": "stderr",
     "output_type": "stream",
     "text": [
      "C:\\Program Files\\Anaconda2\\lib\\site-packages\\ipykernel\\__main__.py:5: DeprecationWarning: the sets module is deprecated\n"
     ]
    }
   ],
   "source": [
    "import itertools\n",
    "import math\n",
    "import random\n",
    "import numpy\n",
    "from sets import Set"
   ]
  },
  {
   "cell_type": "code",
   "execution_count": 8,
   "metadata": {
    "collapsed": true
   },
   "outputs": [],
   "source": [
    "def convert(List):\n",
    "    P = List[:]\n",
    "    for i in range(len(P)):\n",
    "        l = P[i]\n",
    "        newL = []\n",
    "        for c in l:\n",
    "            newL.append(int(c))\n",
    "    #         if c == '0':\n",
    "    #             newL.append('N')\n",
    "    #         if c == '1':\n",
    "    #             newL.append('R')\n",
    "    #         if c == '2':\n",
    "    #             newL.append('HR')\n",
    "        P[i] = newL\n",
    "    return P\n",
    "\n",
    "P = [\"\".join(item) for item in itertools.product(\"012\", repeat=5)]\n",
    "E =  [\"\".join(item) for item in itertools.product(\"012\", repeat=5)]\n",
    "\n",
    "P = convert(P)\n",
    "E = convert(E)\n",
    "\n",
    "L = []\n",
    "for item1 in P:\n",
    "    for item2 in E:\n",
    "        pair = []\n",
    "        pair.append(item1)\n",
    "        pair.append(item2)\n",
    "        L.append(pair)"
   ]
  },
  {
   "cell_type": "code",
   "execution_count": 9,
   "metadata": {
    "collapsed": false
   },
   "outputs": [
    {
     "name": "stdout",
     "output_type": "stream",
     "text": [
      "[[0, 0, 0, 0, 0], [0, 1, 2, 0, 0]]\n",
      "0.0 , 0.666666666667\n",
      "0.0 , 2.13092975357\n",
      "50.9456751679\n",
      "0.5184\n"
     ]
    }
   ],
   "source": [
    "#Precision at K\n",
    "def precision(res, k):\n",
    "    counter = 0\n",
    "    for i in range(k):\n",
    "        if res[i] != 0:\n",
    "            counter += 1\n",
    "    return 1.0*counter / k\n",
    "\n",
    "def DCG(res, k):\n",
    "    sum = 0\n",
    "    for r in range(1,k+1):\n",
    "        sum += (2**res[r-1] - 1)/math.log(1+r,2)\n",
    "    return sum\n",
    "\n",
    "def RBP(res, theta = 0.8):\n",
    "    sum = 0\n",
    "    for k in range(1, len(res)):\n",
    "        sum += res[k-1] * theta**(k-1)*(1 - theta)\n",
    "    return sum\n",
    "\n",
    "print L[45]\n",
    "print precision(L[45][0],k = 3),',', precision(L[45][1],k = 3)\n",
    "print DCG(L[45][0],k = 3),',',DCG(L[45][1],k = 3)\n",
    "print DCG([5,5,0,0,1,0,0,0,0,0], 10)\n",
    "print RBP([0,1,2,1,0])#L[45][1])"
   ]
  },
  {
   "cell_type": "code",
   "execution_count": 10,
   "metadata": {
    "collapsed": false
   },
   "outputs": [
    {
     "name": "stdout",
     "output_type": "stream",
     "text": [
      "[[0, 0, 2, 1, 1], [1, 0, 0, 1, 2]]\n",
      "[[[0, 0, 2, 2, 1], [2, 0, 2, 2, 2]], 3.7737056144690833]\n",
      "3.77370561447\n"
     ]
    }
   ],
   "source": [
    "def measure(pairs, measure, k=5):\n",
    "    result = []\n",
    "    for pair in pairs:\n",
    "        if measure == \"precision\":\n",
    "            P = precision(pair[0], k)\n",
    "            E = precision(pair[1], k)\n",
    "        \n",
    "        if measure == \"DCG\":\n",
    "            P = DCG(pair[0], k)\n",
    "            E = DCG(pair[1], k)\n",
    "            \n",
    "        if measure == \"RBP\":\n",
    "            P = RBP(pair[0])\n",
    "            E = RBP(pair[1])\n",
    "         \n",
    "        diff = E - P\n",
    "        \n",
    "        if diff > 0:\n",
    "            result.append([pair, diff])\n",
    "            \n",
    "    return result\n",
    "\n",
    "res = measure(L, \"DCG\")\n",
    "print L[5432]\n",
    "print res[5432]\n",
    "\n",
    "print DCG([2, 0, 2, 2, 2], 5) - DCG([0, 0, 2, 2, 1], 5)"
   ]
  },
  {
   "cell_type": "code",
   "execution_count": 29,
   "metadata": {
    "collapsed": false
   },
   "outputs": [
    {
     "data": {
      "text/plain": [
       "0"
      ]
     },
     "execution_count": 29,
     "metadata": {},
     "output_type": "execute_result"
    }
   ],
   "source": [
    "#Team Draft Interleaving\n",
    "def get_clicks(l, number):\n",
    "    ind_order = range(len(l))\n",
    "    random.shuffle(ind_order)\n",
    "    return ind_order[:number]\n",
    "\n",
    "#a) create the interleaving list\n",
    "def team_draft_interleave(pair):\n",
    "#     l1 = zip(pair[0],[0]*len(pair[0]))\n",
    "#     l2 = zip(pair[1],[1]*len(pair[1]))\n",
    "    \n",
    "    lists = [zip(pair[0],[0]*len(pair[0])), zip(pair[1],[1]*len(pair[1]))]\n",
    "    result = []\n",
    "    while lists[0] or lists[1]:\n",
    "        \n",
    "        if lists[0] and lists[1]:\n",
    "            selected = random.randint(0,1)\n",
    "        elif lists[0]:\n",
    "            selected = 0\n",
    "        else:\n",
    "            selected = 1\n",
    "\n",
    "        doc_index = 0 \n",
    "        doc = lists[selected][doc_index]\n",
    "        result.append(doc)\n",
    "        \n",
    "        del lists[selected][doc_index]\n",
    "        other_ind = int(math.fabs(selected-1))\n",
    "        if lists[other_ind]:\n",
    "            for i in range(len(lists[other_ind])):\n",
    "                if lists[other_ind][i][0] == doc[0]:\n",
    "                    del lists[other_ind][i]\n",
    "                    break\n",
    "                 \n",
    "        temp = selected\n",
    "        selected = other_ind\n",
    "        other_ind = selected\n",
    "        \n",
    "        if  lists[selected]:\n",
    "            doc = lists[selected][doc_index]\n",
    "            result.append(doc)\n",
    "\n",
    "            del lists[selected][doc_index]\n",
    "            other_ind = int(math.fabs(selected-1))\n",
    "            if lists[other_ind]:\n",
    "                for i in range(len(lists[other_ind])):\n",
    "                    if lists[other_ind][i][0] == doc[0]:\n",
    "                        del lists[other_ind][i]\n",
    "                        break\n",
    "\n",
    "        \n",
    "    return result\n",
    "    \n",
    "    \n",
    "#     combined = zip(l1, l2)\n",
    "#     shuffled = []\n",
    "#     for line in combined:\n",
    "#         lst = list(line)\n",
    "#         random.shuffle(lst)\n",
    "#         shuffled.append(lst)\n",
    "#     flattened = [item for sublist in shuffled for item in sublist]\n",
    "#     return  flattened\n",
    "    \n",
    "#b) evaluate the interleaved list\n",
    "def team_draft_evaluate(interleaved, clicks):\n",
    "    counters = [0, 0]\n",
    "    for index in clicks:\n",
    "        counters[interleaved[index][1]]+=1\n",
    "    return numpy.sign(counters[0]-counters[1])\n",
    "\n",
    "def team_draft(pair, n_clicks=2):\n",
    "    interleaved = team_draft_interleave(pair)\n",
    "    clicks = get_clicks(interleaved, n_clicks)\n",
    "    evaluation = team_draft_evaluate(interleaved, clicks)\n",
    "    return evaluation\n",
    "\n",
    "team_draft([[0,1,2,3,4,5],[0,1,2,6,4,5]]) #L[1213])"
   ]
  },
  {
   "cell_type": "code",
   "execution_count": 22,
   "metadata": {
    "collapsed": false
   },
   "outputs": [
    {
     "name": "stdout",
     "output_type": "stream",
     "text": [
      "[9, 0, 3, 5, 4, 6, 8, 7, 2, 1]\n"
     ]
    },
    {
     "name": "stderr",
     "output_type": "stream",
     "text": [
      "C:\\Program Files\\Anaconda2\\lib\\site-packages\\ipykernel\\__main__.py:32: VisibleDeprecationWarning: converting an array with ndim > 0 to an index will result in an error in the future\n",
      "C:\\Program Files\\Anaconda2\\lib\\site-packages\\ipykernel\\__main__.py:34: VisibleDeprecationWarning: converting an array with ndim > 0 to an index will result in an error in the future\n"
     ]
    },
    {
     "data": {
      "text/plain": [
       "0"
      ]
     },
     "execution_count": 22,
     "metadata": {},
     "output_type": "execute_result"
    }
   ],
   "source": [
    "#Probabilistic Interleaving\n",
    "\n",
    "def preprocess(pair):\n",
    "    c = 0\n",
    "    new_pair = ([], [])\n",
    "    for i in range(2):\n",
    "        for item in pair[i]:\n",
    "            new_pair[i].append(str(item)+ str(c))\n",
    "            c+=1\n",
    "    return new_pair\n",
    "\n",
    "\n",
    "#a) create the interleaving list\n",
    "def prob_interleave(pair, tau = 3):\n",
    "    lists = [zip(pair[0],[0]*len(pair[0])), zip(pair[1],[1]*len(pair[1]))]\n",
    "    result = []\n",
    "    while lists[0] or lists[1]:\n",
    "        \n",
    "        if lists[0] and lists[1]:\n",
    "            selected = random.randint(0,1)\n",
    "        elif lists[0]:\n",
    "            selected = 0\n",
    "        else:\n",
    "            selected = 1\n",
    "        \n",
    "        sum = 0\n",
    "        for i in range(0, len(lists[selected])):\n",
    "            sum += 1.0/((i+1)**tau)\n",
    "            \n",
    "        p = [(1.0/((i+1)**tau))/sum for i in range(0, len(lists[selected]))]\n",
    "        doc_index = numpy.random.choice(range(len(lists[selected])),1,p=p)\n",
    "        doc = lists[selected][doc_index]\n",
    "        result.append(doc)\n",
    "        del lists[selected][doc_index]\n",
    "        other_ind = int(math.fabs(selected-1))\n",
    "        if lists[other_ind]:\n",
    "            for i in range(len(lists[other_ind])):\n",
    "                if lists[other_ind][i][0] == doc[0]:\n",
    "                    del lists[other_ind][i]\n",
    "                    break\n",
    "    return result\n",
    "        \n",
    "    \n",
    "#b) evaluate the interleaved list\n",
    "def prob_evaluate(interleaved, clicks):\n",
    "    return team_draft_evaluate(interleaved, clicks)\n",
    "\n",
    "def prob(pair, n_clicks=2):\n",
    "    interleaved = prob_interleave(pair)\n",
    "    clicks = get_clicks(interleaved, n_clicks)\n",
    "    return prob_evaluate(interleaved, clicks)\n",
    "    \n",
    "pair = preprocess(L[1234])\n",
    "# pair = ([1, 2, 3, 4, 5], [2, 3, 4, 5, 6])\n",
    "prob(pair)"
   ]
  },
  {
   "cell_type": "code",
   "execution_count": 94,
   "metadata": {
    "collapsed": false
   },
   "outputs": [
    {
     "name": "stdout",
     "output_type": "stream",
     "text": [
      "[[['341', '246', '233', '280', '289', '301', '277', '299', '334', '315'], ['341']], [['130920', '125203', '130933', '130916', '130930', '130924', '130929', '130925', '130922', '130926'], []], [['411', '414', '131186', '131189', '131188', '131184', '131185', '131187', '131190', '131191'], ['411']]]\n"
     ]
    }
   ],
   "source": [
    "Q = []\n",
    "C = []\n",
    "table = []\n",
    "with open('YandexRelPredChallenge.txt', 'r') as f:\n",
    "    for line in f:\n",
    "        line = line.split()\n",
    "        table.append(line)\n",
    "#         if line[2] == 'Q':\n",
    "#             Q.append(line)\n",
    "#         else:\n",
    "#             C.append(line)\n",
    "f.closed\n",
    "#print table[-1] \n",
    "\n",
    "sum = 0\n",
    "S = []\n",
    "for key, group in itertools.groupby(table,lambda x: x[0]):\n",
    "    queries = []\n",
    "    for item in group:\n",
    "        if(item[2]) == 'Q':\n",
    "            queries.append([])\n",
    "            queries[-1].append(item[5:])\n",
    "            queries[-1].append([])\n",
    "        if(item[2]) == 'C':\n",
    "            c = item[-1]\n",
    "            queries[-1][-1].append(c)    \n",
    "    S.append(queries)\n",
    "    \n",
    "print S[-2]\n",
    "\n",
    "\n",
    "\n"
   ]
  },
  {
   "cell_type": "code",
   "execution_count": 97,
   "metadata": {
    "collapsed": false
   },
   "outputs": [
    {
     "name": "stdout",
     "output_type": "stream",
     "text": [
      "0.143244475768\n"
     ]
    }
   ],
   "source": [
    "sum1 = 0\n",
    "sum2 = 0\n",
    "for s in S:\n",
    "    clicks = Set([])\n",
    "    for q in s:\n",
    "        for c in q[1]:\n",
    "            clicks.add(c)\n",
    "    sum1 += len(clicks)\n",
    "    \n",
    "    docs = []\n",
    "    for q in s:\n",
    "        docs.extend(q[0])\n",
    "    docs = Set(docs)\n",
    "    sum2 += len(docs)\n",
    "    \n",
    "print 1.0*sum1/sum2"
   ]
  },
  {
   "cell_type": "code",
   "execution_count": 93,
   "metadata": {
    "collapsed": false
   },
   "outputs": [],
   "source": [
    "del sessions"
   ]
  },
  {
   "cell_type": "code",
   "execution_count": null,
   "metadata": {
    "collapsed": true
   },
   "outputs": [],
   "source": []
  }
 ],
 "metadata": {
  "anaconda-cloud": {},
  "kernelspec": {
   "display_name": "Python [default]",
   "language": "python",
   "name": "python2"
  },
  "language_info": {
   "codemirror_mode": {
    "name": "ipython",
    "version": 2
   },
   "file_extension": ".py",
   "mimetype": "text/x-python",
   "name": "python",
   "nbconvert_exporter": "python",
   "pygments_lexer": "ipython2",
   "version": "2.7.12"
  }
 },
 "nbformat": 4,
 "nbformat_minor": 0
}
