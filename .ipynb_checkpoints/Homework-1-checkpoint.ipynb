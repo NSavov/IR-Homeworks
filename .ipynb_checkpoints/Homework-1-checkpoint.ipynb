{
 "cells": [
  {
   "cell_type": "code",
   "execution_count": 18,
   "metadata": {
    "collapsed": false
   },
   "outputs": [
    {
     "name": "stdout",
     "output_type": "stream",
     "text": [
      "[[0, 0, 0, 1, 2], [0, 0, 1, 2, 1]]\n"
     ]
    }
   ],
   "source": [
    "import itertools\n",
    "\n",
    "def convert(List):\n",
    "    P = List[:]\n",
    "    for i in range(len(P)):\n",
    "        l = P[i]\n",
    "        newL = []\n",
    "        for c in l:\n",
    "            newL.append(int(c))\n",
    "    #         if c == '0':\n",
    "    #             newL.append('N')\n",
    "    #         if c == '1':\n",
    "    #             newL.append('R')\n",
    "    #         if c == '2':\n",
    "    #             newL.append('HR')\n",
    "        P[i] = newL\n",
    "    return P\n",
    "\n",
    "P = [\"\".join(item) for item in itertools.product(\"012\", repeat=5)]\n",
    "E =  [\"\".join(item) for item in itertools.product(\"012\", repeat=5)]\n",
    "\n",
    "P = convert(P)\n",
    "E = convert(E)\n",
    "\n",
    "L = []\n",
    "for item1 in P:\n",
    "    for item2 in E:\n",
    "        pair = []\n",
    "        pair.append(item1)\n",
    "        pair.append(item2)\n",
    "        L.append(pair)\n",
    "        \n"
   ]
  },
  {
   "cell_type": "code",
   "execution_count": 46,
   "metadata": {
    "collapsed": false
   },
   "outputs": [
    {
     "name": "stdout",
     "output_type": "stream",
     "text": [
      "[[0, 0, 0, 0, 0], [0, 1, 2, 0, 0]]\n",
      "0.0 , 0.666666666667\n",
      "0.0 , 2.13092975357\n",
      "50.9456751679\n",
      "0.5184\n"
     ]
    }
   ],
   "source": [
    "import math\n",
    "#Precision at K\n",
    "def precision(res, k):\n",
    "    counter = 0\n",
    "    for i in range(k):\n",
    "        if res[i] != 0:\n",
    "            counter += 1\n",
    "    return 1.0*counter / k\n",
    "\n",
    "def DCG(res, k):\n",
    "    sum = 0\n",
    "    for r in range(1,k+1):\n",
    "        sum += (2**res[r-1] - 1)/math.log(1+r,2)\n",
    "    return sum\n",
    "\n",
    "def RBP(res, theta = 0.8):\n",
    "    sum = 0\n",
    "    for k in range(1, len(res)):\n",
    "        sum += res[k-1] * theta**(k-1)*(1 - theta)\n",
    "    return sum\n",
    "\n",
    "print L[45]\n",
    "print precision(L[45][0],k = 3),',', precision(L[45][1],k = 3)\n",
    "print DCG(L[45][0],k = 3),',',DCG(L[45][1],k = 3)\n",
    "print DCG([5,5,0,0,1,0,0,0,0,0], 10)\n",
    "print RBP([0,1,2,1,0])#L[45][1])"
   ]
  },
  {
   "cell_type": "code",
   "execution_count": 56,
   "metadata": {
    "collapsed": false
   },
   "outputs": [
    {
     "name": "stdout",
     "output_type": "stream",
     "text": [
      "[[0, 0, 2, 1, 1], [1, 0, 0, 1, 2]]\n",
      "[[[0, 0, 2, 2, 1], [2, 0, 2, 2, 2]], 3.7737056144690833]\n",
      "3.77370561447\n"
     ]
    }
   ],
   "source": [
    "def measure(pairs, measure, k=5):\n",
    "    result = []\n",
    "    for pair in pairs:\n",
    "        if measure == \"precision\":\n",
    "            P = precision(pair[0], k)\n",
    "            E = precision(pair[1], k)\n",
    "        \n",
    "        if measure == \"DCG\":\n",
    "            P = DCG(pair[0], k)\n",
    "            E = DCG(pair[1], k)\n",
    "            \n",
    "        if measure == \"RBP\":\n",
    "            P = RBP(pair[0])\n",
    "            E = RBP(pair[1])\n",
    "         \n",
    "        diff = E - P\n",
    "        \n",
    "        if diff > 0:\n",
    "            result.append([pair, diff])\n",
    "            \n",
    "    return result\n",
    "\n",
    "res = measure(L, \"DCG\")\n",
    "print L[5432]\n",
    "print res[5432]\n",
    "\n",
    "print DCG([2, 0, 2, 2, 2], 5) - DCG([0, 0, 2, 2, 1], 5)\n",
    "\n"
   ]
  },
  {
   "cell_type": "code",
   "execution_count": null,
   "metadata": {
    "collapsed": true
   },
   "outputs": [],
   "source": []
  }
 ],
 "metadata": {
  "anaconda-cloud": {},
  "kernelspec": {
   "display_name": "Python [default]",
   "language": "python",
   "name": "python2"
  },
  "language_info": {
   "codemirror_mode": {
    "name": "ipython",
    "version": 2
   },
   "file_extension": ".py",
   "mimetype": "text/x-python",
   "name": "python",
   "nbconvert_exporter": "python",
   "pygments_lexer": "ipython2",
   "version": "2.7.12"
  }
 },
 "nbformat": 4,
 "nbformat_minor": 0
}
